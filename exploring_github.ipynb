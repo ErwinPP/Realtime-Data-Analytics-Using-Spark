{
 "cells": [
  {
   "cell_type": "code",
   "execution_count": 6,
   "metadata": {
    "collapsed": true
   },
   "outputs": [],
   "source": [
    "import pandas as pd\n",
    "from github import Github"
   ]
  },
  {
   "cell_type": "markdown",
   "metadata": {},
   "source": [
    "* Example Call: `Show USER PROFILE in URL`\n",
    "> `https://api.github.com/users/RichardAfolabi` (in browser) <br>\n",
    "> `curl -i https://api.github.com/users/RichardAfolabi` (in shell)\n",
    "> All API calls: `https://api.github.com` (in browser) or `curl -i https://api.github.com` (in shell)\n",
    "\n",
    "Load Github token (Created at https://github.com/settings/tokens)"
   ]
  },
  {
   "cell_type": "code",
   "execution_count": 31,
   "metadata": {
    "collapsed": false
   },
   "outputs": [],
   "source": [
    "# Load Github token \n",
    "github_token = pd.read_csv(\"../github_token.csv\")\n",
    "ACCESS_TOKEN = github_token.values.flatten()[0]\n"
   ]
  },
  {
   "cell_type": "markdown",
   "metadata": {},
   "source": [
    "### Dig deeper into `User = apache` and `Repo = spark`"
   ]
  },
  {
   "cell_type": "code",
   "execution_count": null,
   "metadata": {
    "collapsed": true
   },
   "outputs": [],
   "source": [
    "# Set user and repo of interest\n",
    "USER = 'apache'\n",
    "REPO = 'spark'\n",
    "\n",
    "githubx = Github. "
   ]
  }
 ],
 "metadata": {
  "kernelspec": {
   "display_name": "Python 2",
   "language": "python",
   "name": "python2"
  },
  "language_info": {
   "codemirror_mode": {
    "name": "ipython",
    "version": 2
   },
   "file_extension": ".py",
   "mimetype": "text/x-python",
   "name": "python",
   "nbconvert_exporter": "python",
   "pygments_lexer": "ipython2",
   "version": "2.7.11"
  }
 },
 "nbformat": 4,
 "nbformat_minor": 0
}
